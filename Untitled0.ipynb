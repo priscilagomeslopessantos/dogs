{
  "nbformat": 4,
  "nbformat_minor": 0,
  "metadata": {
    "colab": {
      "name": "Untitled0.ipynb",
      "provenance": [],
      "authorship_tag": "ABX9TyObBlMiAnOUYjq/ubP63ac6",
      "include_colab_link": true
    },
    "kernelspec": {
      "name": "python3",
      "display_name": "Python 3"
    },
    "language_info": {
      "name": "python"
    }
  },
  "cells": [
    {
      "cell_type": "markdown",
      "metadata": {
        "id": "view-in-github",
        "colab_type": "text"
      },
      "source": [
        "<a href=\"https://colab.research.google.com/github/priscilagomeslopessantos/dogs/blob/main/Untitled0.ipynb\" target=\"_parent\"><img src=\"https://colab.research.google.com/assets/colab-badge.svg\" alt=\"Open In Colab\"/></a>"
      ]
    },
    {
      "cell_type": "code",
      "source": [
        "1 letra = a\n",
        "2 palavra1 = \"estrutura de dados\"\n",
        "3 palavra2 = \"python\" \n",
        "\n",
        "\n"
      ],
      "metadata": {
        "id": "v3WUx1SldR3l"
      },
      "execution_count": null,
      "outputs": []
    },
    {
      "cell_type": "code",
      "source": [
        "num1= 2\n",
        "num2= 8\n",
        "num3= 12\n",
        "num4= 20\n",
        "num5= 35\n",
        "num6= 45\n",
        "num7= 78\n"
      ],
      "metadata": {
        "id": "tzwOM6Xhd7K2"
      },
      "execution_count": null,
      "outputs": []
    },
    {
      "cell_type": "code",
      "source": [
        "num2\n"
      ],
      "metadata": {
        "colab": {
          "base_uri": "https://localhost:8080/"
        },
        "id": "wAi-_I93ejk-",
        "outputId": "8203d83e-9d3f-4af2-b271-987016e7c28c"
      },
      "execution_count": null,
      "outputs": [
        {
          "output_type": "execute_result",
          "data": {
            "text/plain": [
              "8"
            ]
          },
          "metadata": {},
          "execution_count": 2
        }
      ]
    },
    {
      "cell_type": "code",
      "source": [
        "num1*num2                                                       \n"
      ],
      "metadata": {
        "colab": {
          "base_uri": "https://localhost:8080/"
        },
        "id": "O8TzJxdjfEs2",
        "outputId": "bf749f0e-648f-4f66-d610-b8907bdccdbd"
      },
      "execution_count": null,
      "outputs": [
        {
          "output_type": "execute_result",
          "data": {
            "text/plain": [
              "16"
            ]
          },
          "metadata": {},
          "execution_count": 3
        }
      ]
    },
    {
      "cell_type": "code",
      "source": [
        "idade = int(input('digite sua idade'))"
      ],
      "metadata": {
        "colab": {
          "base_uri": "https://localhost:8080/"
        },
        "id": "qa8KSnVJgiJw",
        "outputId": "6a851229-7209-442d-c1cd-50f81528d91f"
      },
      "execution_count": null,
      "outputs": [
        {
          "name": "stdout",
          "output_type": "stream",
          "text": [
            "digite sua idade 35\n"
          ]
        }
      ]
    },
    {
      "cell_type": "code",
      "source": [
        "print (idade)"
      ],
      "metadata": {
        "colab": {
          "base_uri": "https://localhost:8080/"
        },
        "id": "FrFgVJVwiQ-p",
        "outputId": "141cd061-0534-4986-a0b0-23b1f7df4df0"
      },
      "execution_count": null,
      "outputs": [
        {
          "output_type": "stream",
          "name": "stdout",
          "text": [
            "35\n"
          ]
        }
      ]
    },
    {
      "cell_type": "code",
      "source": [
        "nome = priscila\n",
        "nome2 = gomes\n",
        "nome3 = lopes\n",
        "nome4 = santos"
      ],
      "metadata": {
        "id": "e_RN8y5iiqBR"
      },
      "execution_count": null,
      "outputs": []
    }
  ]
}